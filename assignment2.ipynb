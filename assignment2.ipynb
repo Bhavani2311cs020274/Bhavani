{
 "cells": [
  {
   "cell_type": "code",
   "execution_count": null,
   "id": "7017a7ed-dfa2-42d6-a538-4ee2df56e364",
   "metadata": {},
   "outputs": [],
   "source": [
    "my_list = [10, 20, 30, 40, 50]\n",
    "print(my_list[0])  \n",
    "print(my_list[2])  \n",
    "print(my_list[-1]) \n",
    "my_tuple = (1, \"apple\", 3.14, True, \"banana\")\n",
    "print(my_tuple[1]) \n",
    "print(my_tuple[4])  \n",
    "print(my_tuple[-2]) \n",
    "\n",
    "\n",
    "my_dict = {\"name\": \"John\", \"age\": 25, \"city\": \"New York\", \"job\": \"Engineer\", \"country\": \"USA\"}\n",
    "print(my_dict[\"name\"])  \n",
    "print(my_dict[\"age\"])  \n",
    "print(my_dict[\"city\"])  "
   ]
  }
 ],
 "metadata": {
  "kernelspec": {
   "display_name": "Python [conda env:base] *",
   "language": "python",
   "name": "conda-base-py"
  },
  "language_info": {
   "codemirror_mode": {
    "name": "ipython",
    "version": 3
   },
   "file_extension": ".py",
   "mimetype": "text/x-python",
   "name": "python",
   "nbconvert_exporter": "python",
   "pygments_lexer": "ipython3",
   "version": "3.12.7"
  }
 },
 "nbformat": 4,
 "nbformat_minor": 5
}
