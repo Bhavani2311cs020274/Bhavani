{
 "cells": [
  {
   "cell_type": "code",
   "execution_count": 1,
   "id": "33eeee89-8a3a-45f9-95ad-8a3752e443ff",
   "metadata": {},
   "outputs": [
    {
     "name": "stdin",
     "output_type": "stream",
     "text": [
      " 8\n"
     ]
    },
    {
     "name": "stdout",
     "output_type": "stream",
     "text": [
      "even\n"
     ]
    }
   ],
   "source": [
    "num=int(input())\n",
    "if num %2 ==0:\n",
    "    print('even')\n",
    "else:\n",
    "    print('odd')"
   ]
  },
  {
   "cell_type": "code",
   "execution_count": 3,
   "id": "9dc57022-e43e-4b3e-8fe9-a008928b2184",
   "metadata": {},
   "outputs": [
    {
     "name": "stdout",
     "output_type": "stream",
     "text": [
      "even\n"
     ]
    }
   ],
   "source": [
    "print('even') if num % 2 ==0 else print('odd')"
   ]
  },
  {
   "cell_type": "code",
   "execution_count": 5,
   "id": "44f03a68-1c19-4ce9-93d6-2de1af6b546b",
   "metadata": {},
   "outputs": [
    {
     "name": "stdout",
     "output_type": "stream",
     "text": [
      "Zero\n"
     ]
    }
   ],
   "source": [
    "num=0\n",
    "result= \"Positive\" if num >0 else (\"Negative\" if num < 0 else \"Zero\" )\n",
    "print(result)"
   ]
  },
  {
   "cell_type": "code",
   "execution_count": 9,
   "id": "67e848fb-c48a-4ebc-ad41-b179435295c1",
   "metadata": {},
   "outputs": [
    {
     "data": {
      "text/plain": [
       "[2, 18, 4, 20, 112, 178]"
      ]
     },
     "execution_count": 9,
     "metadata": {},
     "output_type": "execute_result"
    }
   ],
   "source": [
    "L=[1,9,2,10,56,89]\n",
    "[2*x for x in L]"
   ]
  },
  {
   "cell_type": "code",
   "execution_count": 11,
   "id": "dcf339e5-d9d3-4af1-a1f0-7d76ed6d3f43",
   "metadata": {},
   "outputs": [
    {
     "data": {
      "text/plain": [
       "[2, 10, 56]"
      ]
     },
     "execution_count": 11,
     "metadata": {},
     "output_type": "execute_result"
    }
   ],
   "source": [
    "L=[1,9,2,10,56,89]\n",
    "[x for x in L if x%2 ==0]"
   ]
  },
  {
   "cell_type": "code",
   "execution_count": 13,
   "id": "d83a8830-3ec6-4c3d-ae0d-73a584fc87db",
   "metadata": {},
   "outputs": [
    {
     "data": {
      "text/plain": [
       "[1, 9, 89]"
      ]
     },
     "execution_count": 13,
     "metadata": {},
     "output_type": "execute_result"
    }
   ],
   "source": [
    "L=[1,9,2,10,56,89]\n",
    "[x for x in L if x%2 !=0]"
   ]
  },
  {
   "cell_type": "code",
   "execution_count": 33,
   "id": "a6de6173-7072-4dc0-9ffb-4bacfa3f258c",
   "metadata": {},
   "outputs": [
    {
     "data": {
      "text/plain": [
       "27.833333333333332"
      ]
     },
     "execution_count": 33,
     "metadata": {},
     "output_type": "execute_result"
    }
   ],
   "source": [
    "L=[1,9,2,10,56,89]\n",
    "sum([x for x in L ])/len(L)"
   ]
  },
  {
   "cell_type": "code",
   "execution_count": 45,
   "id": "60ccc09d-ae8f-410e-b810-0db3bb810d94",
   "metadata": {},
   "outputs": [
    {
     "data": {
      "text/plain": [
       "{'Ram': [70, 71, 98, 100], 'Bhavs': [56, 98, 67, 65]}"
      ]
     },
     "execution_count": 45,
     "metadata": {},
     "output_type": "execute_result"
    }
   ],
   "source": [
    "d1={'Ram':[70,71,98,100], 'Bhavs':[56,98,67,65]}\n",
    "d1"
   ]
  },
  {
   "cell_type": "code",
   "execution_count": 47,
   "id": "c0d87828-5b6c-44ab-9014-84bc5fcc4018",
   "metadata": {},
   "outputs": [
    {
     "data": {
      "text/plain": [
       "{'Ram': 84.75, 'Bhavs': 71.5}"
      ]
     },
     "execution_count": 47,
     "metadata": {},
     "output_type": "execute_result"
    }
   ],
   "source": [
    "{k:sum(v)/len(v) for k,v in d1.items()}"
   ]
  },
  {
   "cell_type": "code",
   "execution_count": null,
   "id": "c221d014-2e79-4d1c-9d76-aa620129b9ae",
   "metadata": {},
   "outputs": [],
   "source": []
  }
 ],
 "metadata": {
  "kernelspec": {
   "display_name": "Python [conda env:base] *",
   "language": "python",
   "name": "conda-base-py"
  },
  "language_info": {
   "codemirror_mode": {
    "name": "ipython",
    "version": 3
   },
   "file_extension": ".py",
   "mimetype": "text/x-python",
   "name": "python",
   "nbconvert_exporter": "python",
   "pygments_lexer": "ipython3",
   "version": "3.12.7"
  }
 },
 "nbformat": 4,
 "nbformat_minor": 5
}
