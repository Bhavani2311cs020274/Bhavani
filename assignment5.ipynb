{
 "cells": [
  {
   "cell_type": "code",
   "execution_count": 1,
   "id": "b81024a6-d93f-43ea-82ba-40132d6d46ea",
   "metadata": {},
   "outputs": [
    {
     "name": "stdin",
     "output_type": "stream",
     "text": [
      "Enter a positive integer:  5\n"
     ]
    },
    {
     "name": "stdout",
     "output_type": "stream",
     "text": [
      "Numbers from 1 to 5 using a for loop:\n",
      "1\n",
      "2\n",
      "3\n",
      "4\n",
      "5\n",
      "\n",
      "Sum of all numbers from 1 to 5 using a while loop is: 15\n"
     ]
    }
   ],
   "source": [
    "n = int(input(\"Enter a positive integer: \"))\n",
    "print(\"Numbers from 1 to\", n, \"using a for loop:\")\n",
    "for i in range(1, n+1):\n",
    "    print(i)\n",
    "\n",
    "sum_of_numbers = 0\n",
    "i = 1\n",
    "while i <= n:\n",
    "    sum_of_numbers += i\n",
    "    i += 1\n",
    "\n",
    "print(\"\\nSum of all numbers from 1 to\", n, \"using a while loop is:\", sum_of_numbers)"
   ]
  },
  {
   "cell_type": "code",
   "execution_count": null,
   "id": "169fac49-dec1-4e8f-9ed1-bd8afd3e6efd",
   "metadata": {},
   "outputs": [],
   "source": []
  }
 ],
 "metadata": {
  "kernelspec": {
   "display_name": "Python [conda env:base] *",
   "language": "python",
   "name": "conda-base-py"
  },
  "language_info": {
   "codemirror_mode": {
    "name": "ipython",
    "version": 3
   },
   "file_extension": ".py",
   "mimetype": "text/x-python",
   "name": "python",
   "nbconvert_exporter": "python",
   "pygments_lexer": "ipython3",
   "version": "3.12.7"
  }
 },
 "nbformat": 4,
 "nbformat_minor": 5
}
